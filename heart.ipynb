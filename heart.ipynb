{
  "nbformat": 4,
  "nbformat_minor": 0,
  "metadata": {
    "colab": {
      "provenance": [],
      "authorship_tag": "ABX9TyMN2YrUYAQ07IUaU8oNKZFJ",
      "include_colab_link": true
    },
    "kernelspec": {
      "name": "python3",
      "display_name": "Python 3"
    },
    "language_info": {
      "name": "python"
    }
  },
  "cells": [
    {
      "cell_type": "markdown",
      "metadata": {
        "id": "view-in-github",
        "colab_type": "text"
      },
      "source": [
        "<a href=\"https://colab.research.google.com/github/tanvi20206/heart-prediction-neural--network/blob/main/heart.ipynb\" target=\"_parent\"><img src=\"https://colab.research.google.com/assets/colab-badge.svg\" alt=\"Open In Colab\"/></a>"
      ]
    },
    {
      "cell_type": "code",
      "execution_count": null,
      "metadata": {
        "colab": {
          "base_uri": "https://localhost:8080/"
        },
        "id": "_f9Xr3Oh3Gwp",
        "outputId": "fe8d01c9-e420-410b-da34-9b99cfab7133"
      },
      "outputs": [
        {
          "output_type": "stream",
          "name": "stdout",
          "text": [
            "Mounted at /content/gdrive\n"
          ]
        }
      ],
      "source": [
        "from google.colab import drive\n",
        "drive.mount('/content/gdrive')"
      ]
    },
    {
      "cell_type": "code",
      "source": [
        "import numpy as np\n",
        "import pandas as pd\n",
        "import tensorflow as tf"
      ],
      "metadata": {
        "id": "GQ3km4gV5XIM"
      },
      "execution_count": null,
      "outputs": []
    },
    {
      "cell_type": "code",
      "source": [
        "tf.__version__"
      ],
      "metadata": {
        "colab": {
          "base_uri": "https://localhost:8080/",
          "height": 36
        },
        "id": "1Cfd5VZF5bUY",
        "outputId": "219a2df4-9b94-46d0-b73e-2cea9200ae26"
      },
      "execution_count": null,
      "outputs": [
        {
          "output_type": "execute_result",
          "data": {
            "text/plain": [
              "'2.15.0'"
            ],
            "application/vnd.google.colaboratory.intrinsic+json": {
              "type": "string"
            }
          },
          "metadata": {},
          "execution_count": 11
        }
      ]
    },
    {
      "cell_type": "code",
      "source": [
        "dataset = pd.read_csv('heart.csv')\n",
        "x = dataset.iloc[:, 0:13].values\n",
        "y = dataset.iloc[:, -1].values\n"
      ],
      "metadata": {
        "id": "NY-p2MnQ5so5"
      },
      "execution_count": null,
      "outputs": []
    },
    {
      "cell_type": "code",
      "source": [
        "print(x)\n"
      ],
      "metadata": {
        "colab": {
          "base_uri": "https://localhost:8080/"
        },
        "id": "8KciOzti57MO",
        "outputId": "445cb6ea-cb35-445a-a96a-3c4d4b51ef92"
      },
      "execution_count": null,
      "outputs": [
        {
          "output_type": "stream",
          "name": "stdout",
          "text": [
            "[[63.  1.  3. ...  0.  0.  1.]\n",
            " [37.  1.  2. ...  0.  0.  2.]\n",
            " [41.  0.  1. ...  2.  0.  2.]\n",
            " ...\n",
            " [68.  1.  0. ...  1.  2.  3.]\n",
            " [57.  1.  0. ...  1.  1.  3.]\n",
            " [57.  0.  1. ...  1.  1.  2.]]\n"
          ]
        }
      ]
    },
    {
      "cell_type": "code",
      "source": [
        "print(y)"
      ],
      "metadata": {
        "colab": {
          "base_uri": "https://localhost:8080/"
        },
        "id": "JMFBQ3pW8ORh",
        "outputId": "09395ef7-e9a2-44e9-95fa-06ee7370ca6e"
      },
      "execution_count": null,
      "outputs": [
        {
          "output_type": "stream",
          "name": "stdout",
          "text": [
            "[1 1 1 1 1 1 1 1 1 1 1 1 1 1 1 1 1 1 1 1 1 1 1 1 1 1 1 1 1 1 1 1 1 1 1 1 1\n",
            " 1 1 1 1 1 1 1 1 1 1 1 1 1 1 1 1 1 1 1 1 1 1 1 1 1 1 1 1 1 1 1 1 1 1 1 1 1\n",
            " 1 1 1 1 1 1 1 1 1 1 1 1 1 1 1 1 1 1 1 1 1 1 1 1 1 1 1 1 1 1 1 1 1 1 1 1 1\n",
            " 1 1 1 1 1 1 1 1 1 1 1 1 1 1 1 1 1 1 1 1 1 1 1 1 1 1 1 1 1 1 1 1 1 1 1 1 1\n",
            " 1 1 1 1 1 1 1 1 1 1 1 1 1 1 1 1 1 0 0 0 0 0 0 0 0 0 0 0 0 0 0 0 0 0 0 0 0\n",
            " 0 0 0 0 0 0 0 0 0 0 0 0 0 0 0 0 0 0 0 0 0 0 0 0 0 0 0 0 0 0 0 0 0 0 0 0 0\n",
            " 0 0 0 0 0 0 0 0 0 0 0 0 0 0 0 0 0 0 0 0 0 0 0 0 0 0 0 0 0 0 0 0 0 0 0 0 0\n",
            " 0 0 0 0 0 0 0 0 0 0 0 0 0 0 0 0 0 0 0 0 0 0 0 0 0 0 0 0 0 0 0 0 0 0 0 0 0\n",
            " 0 0 0 0 0 0 0]\n"
          ]
        }
      ]
    },
    {
      "cell_type": "code",
      "source": [
        "\n",
        "\n",
        "\n",
        "from sklearn.model_selection import train_test_split\n",
        "x_train, x_test, y_train, y_test = train_test_split(x, y, test_size = 0.2, random_state = 0)\n",
        "\n",
        "\n",
        "from sklearn.preprocessing import StandardScaler\n",
        "\n",
        "sc = StandardScaler()\n",
        "x_train = sc.fit_transform(x_train)\n",
        "x_test = sc.transform(x_test)\n",
        "\n",
        "ann = tf.keras.models.Sequential()\n",
        "\n",
        "ann.add(tf.keras.layers.Dense(units=6,activation='relu'))\n",
        "\n",
        "ann.add(tf.keras.layers.Dense(units=1,activation='sigmoid'))\n",
        "\n",
        "ann.compile(optimizer='adam',loss='binary_crossentropy',metrics=['accuracy'])\n",
        "\n",
        "\n",
        "ann.fit(x_train,y_train,batch_size=32,epochs=80)\n",
        "print(ann.predict(sc.transform([[50,1,1,172,221,1,0,160,0,1.5,1,3,2]])))\n",
        "\n",
        "print(ann.predict(sc.transform([[50,1,1,172,221,1,0,160,0,1.5,1,3,2]]))>0.5)"
      ],
      "metadata": {
        "colab": {
          "base_uri": "https://localhost:8080/"
        },
        "id": "1-Y_8Wau6IHY",
        "outputId": "59276f72-4cae-4006-a249-39ce996076a5"
      },
      "execution_count": null,
      "outputs": [
        {
          "output_type": "stream",
          "name": "stdout",
          "text": [
            "Epoch 1/80\n",
            "8/8 [==============================] - 1s 2ms/step - loss: 0.7542 - accuracy: 0.4380\n",
            "Epoch 2/80\n",
            "8/8 [==============================] - 0s 2ms/step - loss: 0.7388 - accuracy: 0.4628\n",
            "Epoch 3/80\n",
            "8/8 [==============================] - 0s 2ms/step - loss: 0.7237 - accuracy: 0.4752\n",
            "Epoch 4/80\n",
            "8/8 [==============================] - 0s 2ms/step - loss: 0.7102 - accuracy: 0.5124\n",
            "Epoch 5/80\n",
            "8/8 [==============================] - 0s 3ms/step - loss: 0.6975 - accuracy: 0.5537\n",
            "Epoch 6/80\n",
            "8/8 [==============================] - 0s 3ms/step - loss: 0.6853 - accuracy: 0.5744\n",
            "Epoch 7/80\n",
            "8/8 [==============================] - 0s 2ms/step - loss: 0.6727 - accuracy: 0.5868\n",
            "Epoch 8/80\n",
            "8/8 [==============================] - 0s 2ms/step - loss: 0.6609 - accuracy: 0.6074\n",
            "Epoch 9/80\n",
            "8/8 [==============================] - 0s 3ms/step - loss: 0.6501 - accuracy: 0.6281\n",
            "Epoch 10/80\n",
            "8/8 [==============================] - 0s 2ms/step - loss: 0.6387 - accuracy: 0.6570\n",
            "Epoch 11/80\n",
            "8/8 [==============================] - 0s 2ms/step - loss: 0.6281 - accuracy: 0.6694\n",
            "Epoch 12/80\n",
            "8/8 [==============================] - 0s 3ms/step - loss: 0.6179 - accuracy: 0.6860\n",
            "Epoch 13/80\n",
            "8/8 [==============================] - 0s 2ms/step - loss: 0.6078 - accuracy: 0.6983\n",
            "Epoch 14/80\n",
            "8/8 [==============================] - 0s 3ms/step - loss: 0.5974 - accuracy: 0.7107\n",
            "Epoch 15/80\n",
            "8/8 [==============================] - 0s 3ms/step - loss: 0.5876 - accuracy: 0.7190\n",
            "Epoch 16/80\n",
            "8/8 [==============================] - 0s 3ms/step - loss: 0.5782 - accuracy: 0.7438\n",
            "Epoch 17/80\n",
            "8/8 [==============================] - 0s 2ms/step - loss: 0.5693 - accuracy: 0.7521\n",
            "Epoch 18/80\n",
            "8/8 [==============================] - 0s 2ms/step - loss: 0.5602 - accuracy: 0.7479\n",
            "Epoch 19/80\n",
            "8/8 [==============================] - 0s 3ms/step - loss: 0.5518 - accuracy: 0.7521\n",
            "Epoch 20/80\n",
            "8/8 [==============================] - 0s 3ms/step - loss: 0.5435 - accuracy: 0.7645\n",
            "Epoch 21/80\n",
            "8/8 [==============================] - 0s 2ms/step - loss: 0.5351 - accuracy: 0.7645\n",
            "Epoch 22/80\n",
            "8/8 [==============================] - 0s 2ms/step - loss: 0.5274 - accuracy: 0.7603\n",
            "Epoch 23/80\n",
            "8/8 [==============================] - 0s 2ms/step - loss: 0.5196 - accuracy: 0.7645\n",
            "Epoch 24/80\n",
            "8/8 [==============================] - 0s 2ms/step - loss: 0.5126 - accuracy: 0.7686\n",
            "Epoch 25/80\n",
            "8/8 [==============================] - 0s 2ms/step - loss: 0.5055 - accuracy: 0.7686\n",
            "Epoch 26/80\n",
            "8/8 [==============================] - 0s 2ms/step - loss: 0.4990 - accuracy: 0.7769\n",
            "Epoch 27/80\n",
            "8/8 [==============================] - 0s 2ms/step - loss: 0.4925 - accuracy: 0.7810\n",
            "Epoch 28/80\n",
            "8/8 [==============================] - 0s 2ms/step - loss: 0.4860 - accuracy: 0.7810\n",
            "Epoch 29/80\n",
            "8/8 [==============================] - 0s 4ms/step - loss: 0.4803 - accuracy: 0.7810\n",
            "Epoch 30/80\n",
            "8/8 [==============================] - 0s 3ms/step - loss: 0.4743 - accuracy: 0.7769\n",
            "Epoch 31/80\n",
            "8/8 [==============================] - 0s 3ms/step - loss: 0.4685 - accuracy: 0.7851\n",
            "Epoch 32/80\n",
            "8/8 [==============================] - 0s 3ms/step - loss: 0.4631 - accuracy: 0.7810\n",
            "Epoch 33/80\n",
            "8/8 [==============================] - 0s 3ms/step - loss: 0.4576 - accuracy: 0.7975\n",
            "Epoch 34/80\n",
            "8/8 [==============================] - 0s 3ms/step - loss: 0.4526 - accuracy: 0.7934\n",
            "Epoch 35/80\n",
            "8/8 [==============================] - 0s 2ms/step - loss: 0.4480 - accuracy: 0.8099\n",
            "Epoch 36/80\n",
            "8/8 [==============================] - 0s 3ms/step - loss: 0.4433 - accuracy: 0.8099\n",
            "Epoch 37/80\n",
            "8/8 [==============================] - 0s 2ms/step - loss: 0.4388 - accuracy: 0.8182\n",
            "Epoch 38/80\n",
            "8/8 [==============================] - 0s 2ms/step - loss: 0.4346 - accuracy: 0.8223\n",
            "Epoch 39/80\n",
            "8/8 [==============================] - 0s 2ms/step - loss: 0.4306 - accuracy: 0.8223\n",
            "Epoch 40/80\n",
            "8/8 [==============================] - 0s 2ms/step - loss: 0.4266 - accuracy: 0.8223\n",
            "Epoch 41/80\n",
            "8/8 [==============================] - 0s 2ms/step - loss: 0.4228 - accuracy: 0.8223\n",
            "Epoch 42/80\n",
            "8/8 [==============================] - 0s 2ms/step - loss: 0.4194 - accuracy: 0.8140\n",
            "Epoch 43/80\n",
            "8/8 [==============================] - 0s 2ms/step - loss: 0.4159 - accuracy: 0.8264\n",
            "Epoch 44/80\n",
            "8/8 [==============================] - 0s 3ms/step - loss: 0.4125 - accuracy: 0.8306\n",
            "Epoch 45/80\n",
            "8/8 [==============================] - 0s 2ms/step - loss: 0.4094 - accuracy: 0.8306\n",
            "Epoch 46/80\n",
            "8/8 [==============================] - 0s 2ms/step - loss: 0.4063 - accuracy: 0.8347\n",
            "Epoch 47/80\n",
            "8/8 [==============================] - 0s 2ms/step - loss: 0.4033 - accuracy: 0.8347\n",
            "Epoch 48/80\n",
            "8/8 [==============================] - 0s 2ms/step - loss: 0.4006 - accuracy: 0.8347\n",
            "Epoch 49/80\n",
            "8/8 [==============================] - 0s 2ms/step - loss: 0.3978 - accuracy: 0.8306\n",
            "Epoch 50/80\n",
            "8/8 [==============================] - 0s 5ms/step - loss: 0.3952 - accuracy: 0.8264\n",
            "Epoch 51/80\n",
            "8/8 [==============================] - 0s 4ms/step - loss: 0.3927 - accuracy: 0.8264\n",
            "Epoch 52/80\n",
            "8/8 [==============================] - 0s 4ms/step - loss: 0.3901 - accuracy: 0.8306\n",
            "Epoch 53/80\n",
            "8/8 [==============================] - 0s 3ms/step - loss: 0.3878 - accuracy: 0.8347\n",
            "Epoch 54/80\n",
            "8/8 [==============================] - 0s 5ms/step - loss: 0.3854 - accuracy: 0.8306\n",
            "Epoch 55/80\n",
            "8/8 [==============================] - 0s 6ms/step - loss: 0.3833 - accuracy: 0.8306\n",
            "Epoch 56/80\n",
            "8/8 [==============================] - 0s 6ms/step - loss: 0.3812 - accuracy: 0.8306\n",
            "Epoch 57/80\n",
            "8/8 [==============================] - 0s 6ms/step - loss: 0.3790 - accuracy: 0.8347\n",
            "Epoch 58/80\n",
            "8/8 [==============================] - 0s 4ms/step - loss: 0.3770 - accuracy: 0.8347\n",
            "Epoch 59/80\n",
            "8/8 [==============================] - 0s 4ms/step - loss: 0.3751 - accuracy: 0.8388\n",
            "Epoch 60/80\n",
            "8/8 [==============================] - 0s 5ms/step - loss: 0.3732 - accuracy: 0.8347\n",
            "Epoch 61/80\n",
            "8/8 [==============================] - 0s 4ms/step - loss: 0.3714 - accuracy: 0.8347\n",
            "Epoch 62/80\n",
            "8/8 [==============================] - 0s 7ms/step - loss: 0.3699 - accuracy: 0.8306\n",
            "Epoch 63/80\n",
            "8/8 [==============================] - 0s 6ms/step - loss: 0.3682 - accuracy: 0.8306\n",
            "Epoch 64/80\n",
            "8/8 [==============================] - 0s 5ms/step - loss: 0.3666 - accuracy: 0.8388\n",
            "Epoch 65/80\n",
            "8/8 [==============================] - 0s 7ms/step - loss: 0.3652 - accuracy: 0.8430\n",
            "Epoch 66/80\n",
            "8/8 [==============================] - 0s 8ms/step - loss: 0.3637 - accuracy: 0.8471\n",
            "Epoch 67/80\n",
            "8/8 [==============================] - 0s 5ms/step - loss: 0.3623 - accuracy: 0.8471\n",
            "Epoch 68/80\n",
            "8/8 [==============================] - 0s 5ms/step - loss: 0.3610 - accuracy: 0.8471\n",
            "Epoch 69/80\n",
            "8/8 [==============================] - 0s 5ms/step - loss: 0.3598 - accuracy: 0.8471\n",
            "Epoch 70/80\n",
            "8/8 [==============================] - 0s 5ms/step - loss: 0.3585 - accuracy: 0.8471\n",
            "Epoch 71/80\n",
            "8/8 [==============================] - 0s 10ms/step - loss: 0.3574 - accuracy: 0.8430\n",
            "Epoch 72/80\n",
            "8/8 [==============================] - 0s 9ms/step - loss: 0.3562 - accuracy: 0.8430\n",
            "Epoch 73/80\n",
            "8/8 [==============================] - 0s 6ms/step - loss: 0.3551 - accuracy: 0.8388\n",
            "Epoch 74/80\n",
            "8/8 [==============================] - 0s 6ms/step - loss: 0.3540 - accuracy: 0.8388\n",
            "Epoch 75/80\n",
            "8/8 [==============================] - 0s 7ms/step - loss: 0.3529 - accuracy: 0.8388\n",
            "Epoch 76/80\n",
            "8/8 [==============================] - 0s 10ms/step - loss: 0.3518 - accuracy: 0.8388\n",
            "Epoch 77/80\n",
            "8/8 [==============================] - 0s 4ms/step - loss: 0.3509 - accuracy: 0.8388\n",
            "Epoch 78/80\n",
            "8/8 [==============================] - 0s 7ms/step - loss: 0.3497 - accuracy: 0.8388\n",
            "Epoch 79/80\n",
            "8/8 [==============================] - 0s 12ms/step - loss: 0.3487 - accuracy: 0.8430\n",
            "Epoch 80/80\n",
            "8/8 [==============================] - 0s 7ms/step - loss: 0.3478 - accuracy: 0.8430\n",
            "1/1 [==============================] - 0s 292ms/step\n",
            "[[0.13474052]]\n",
            "1/1 [==============================] - 0s 29ms/step\n",
            "[[False]]\n"
          ]
        }
      ]
    }
  ]
}